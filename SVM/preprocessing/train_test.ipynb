{
 "cells": [
  {
   "cell_type": "code",
   "execution_count": 1,
   "id": "5444d41b",
   "metadata": {},
   "outputs": [],
   "source": [
    "# Import necessary libraries\n",
    "import pandas as pd\n",
    "from sklearn.model_selection import train_test_split"
   ]
  },
  {
   "cell_type": "code",
   "execution_count": 2,
   "id": "cfb1f477",
   "metadata": {},
   "outputs": [
    {
     "name": "stdout",
     "output_type": "stream",
     "text": [
      "(707, 9)\n"
     ]
    },
    {
     "data": {
      "text/html": [
       "<div>\n",
       "<style scoped>\n",
       "    .dataframe tbody tr th:only-of-type {\n",
       "        vertical-align: middle;\n",
       "    }\n",
       "\n",
       "    .dataframe tbody tr th {\n",
       "        vertical-align: top;\n",
       "    }\n",
       "\n",
       "    .dataframe thead th {\n",
       "        text-align: right;\n",
       "    }\n",
       "</style>\n",
       "<table border=\"1\" class=\"dataframe\">\n",
       "  <thead>\n",
       "    <tr style=\"text-align: right;\">\n",
       "      <th></th>\n",
       "      <th>Pregnancies</th>\n",
       "      <th>Glucose</th>\n",
       "      <th>BloodPressure</th>\n",
       "      <th>SkinThickness</th>\n",
       "      <th>Insulin</th>\n",
       "      <th>BMI</th>\n",
       "      <th>DiabetesPedigreeFunction</th>\n",
       "      <th>Age</th>\n",
       "      <th>Outcome</th>\n",
       "    </tr>\n",
       "  </thead>\n",
       "  <tbody>\n",
       "    <tr>\n",
       "      <th>0</th>\n",
       "      <td>6</td>\n",
       "      <td>0.950965</td>\n",
       "      <td>0.130966</td>\n",
       "      <td>0.975746</td>\n",
       "      <td>-0.800656</td>\n",
       "      <td>0.235173</td>\n",
       "      <td>0.627</td>\n",
       "      <td>1.434111</td>\n",
       "      <td>1</td>\n",
       "    </tr>\n",
       "    <tr>\n",
       "      <th>1</th>\n",
       "      <td>1</td>\n",
       "      <td>-1.176455</td>\n",
       "      <td>-0.196990</td>\n",
       "      <td>0.588913</td>\n",
       "      <td>-0.800656</td>\n",
       "      <td>-0.840891</td>\n",
       "      <td>0.351</td>\n",
       "      <td>-0.196256</td>\n",
       "      <td>0</td>\n",
       "    </tr>\n",
       "    <tr>\n",
       "      <th>2</th>\n",
       "      <td>8</td>\n",
       "      <td>2.132865</td>\n",
       "      <td>-0.306309</td>\n",
       "      <td>-1.280781</td>\n",
       "      <td>-0.800656</td>\n",
       "      <td>-1.348179</td>\n",
       "      <td>0.672</td>\n",
       "      <td>-0.110447</td>\n",
       "      <td>1</td>\n",
       "    </tr>\n",
       "    <tr>\n",
       "      <th>3</th>\n",
       "      <td>1</td>\n",
       "      <td>-1.041380</td>\n",
       "      <td>-0.196990</td>\n",
       "      <td>0.202080</td>\n",
       "      <td>0.405318</td>\n",
       "      <td>-0.610306</td>\n",
       "      <td>0.167</td>\n",
       "      <td>-1.054344</td>\n",
       "      <td>0</td>\n",
       "    </tr>\n",
       "    <tr>\n",
       "      <th>4</th>\n",
       "      <td>0</td>\n",
       "      <td>0.579511</td>\n",
       "      <td>-1.618134</td>\n",
       "      <td>0.975746</td>\n",
       "      <td>1.354703</td>\n",
       "      <td>1.695546</td>\n",
       "      <td>2.288</td>\n",
       "      <td>-0.024638</td>\n",
       "      <td>1</td>\n",
       "    </tr>\n",
       "  </tbody>\n",
       "</table>\n",
       "</div>"
      ],
      "text/plain": [
       "   Pregnancies   Glucose  BloodPressure  SkinThickness   Insulin       BMI  \\\n",
       "0            6  0.950965       0.130966       0.975746 -0.800656  0.235173   \n",
       "1            1 -1.176455      -0.196990       0.588913 -0.800656 -0.840891   \n",
       "2            8  2.132865      -0.306309      -1.280781 -0.800656 -1.348179   \n",
       "3            1 -1.041380      -0.196990       0.202080  0.405318 -0.610306   \n",
       "4            0  0.579511      -1.618134       0.975746  1.354703  1.695546   \n",
       "\n",
       "   DiabetesPedigreeFunction       Age  Outcome  \n",
       "0                     0.627  1.434111        1  \n",
       "1                     0.351 -0.196256        0  \n",
       "2                     0.672 -0.110447        1  \n",
       "3                     0.167 -1.054344        0  \n",
       "4                     2.288 -0.024638        1  "
      ]
     },
     "execution_count": 2,
     "metadata": {},
     "output_type": "execute_result"
    }
   ],
   "source": [
    "# Import data\n",
    "data = pd.read_csv(\"data.csv\")\n",
    "print (data.shape)\n",
    "data.head()"
   ]
  },
  {
   "cell_type": "code",
   "execution_count": 3,
   "id": "fe395f78",
   "metadata": {},
   "outputs": [],
   "source": [
    "X = data.drop([\"Outcome\"], axis = 1)\n",
    "y = data[\"Outcome\"]"
   ]
  },
  {
   "cell_type": "code",
   "execution_count": 4,
   "id": "af38f3e8",
   "metadata": {},
   "outputs": [
    {
     "name": "stdout",
     "output_type": "stream",
     "text": [
      "(565, 8) (142, 8)\n",
      "(565,) (142,)\n"
     ]
    }
   ],
   "source": [
    "x_train, x_test, y_train, y_test = train_test_split(X, y, random_state=123, test_size=0.2)\n",
    "\n",
    "print (x_train.shape, x_test.shape)\n",
    "print (y_train.shape, y_test.shape)"
   ]
  },
  {
   "cell_type": "code",
   "execution_count": 5,
   "id": "7bb5fbf6",
   "metadata": {},
   "outputs": [],
   "source": [
    "# Save datas\n",
    "x_train.to_csv(\"x_train.csv\")\n",
    "x_test.to_csv(\"x_test.csv\")\n",
    "y_train.to_csv(\"y_train.csv\")\n",
    "y_test.to_csv(\"y_test.csv\")"
   ]
  }
 ],
 "metadata": {
  "kernelspec": {
   "display_name": "Python 3 (ipykernel)",
   "language": "python",
   "name": "python3"
  },
  "language_info": {
   "codemirror_mode": {
    "name": "ipython",
    "version": 3
   },
   "file_extension": ".py",
   "mimetype": "text/x-python",
   "name": "python",
   "nbconvert_exporter": "python",
   "pygments_lexer": "ipython3",
   "version": "3.10.6"
  }
 },
 "nbformat": 4,
 "nbformat_minor": 5
}
