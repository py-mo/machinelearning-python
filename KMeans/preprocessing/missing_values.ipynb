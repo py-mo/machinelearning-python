{
 "cells": [
  {
   "cell_type": "code",
   "execution_count": 1,
   "metadata": {},
   "outputs": [],
   "source": [
    "# Import necessary libraries\n",
    "import pandas as pd"
   ]
  },
  {
   "cell_type": "code",
   "execution_count": 2,
   "metadata": {},
   "outputs": [
    {
     "name": "stdout",
     "output_type": "stream",
     "text": [
      "(8950, 17)\n"
     ]
    },
    {
     "data": {
      "text/html": [
       "<div>\n",
       "<style scoped>\n",
       "    .dataframe tbody tr th:only-of-type {\n",
       "        vertical-align: middle;\n",
       "    }\n",
       "\n",
       "    .dataframe tbody tr th {\n",
       "        vertical-align: top;\n",
       "    }\n",
       "\n",
       "    .dataframe thead th {\n",
       "        text-align: right;\n",
       "    }\n",
       "</style>\n",
       "<table border=\"1\" class=\"dataframe\">\n",
       "  <thead>\n",
       "    <tr style=\"text-align: right;\">\n",
       "      <th></th>\n",
       "      <th>BALANCE</th>\n",
       "      <th>BALANCE_FREQUENCY</th>\n",
       "      <th>PURCHASES</th>\n",
       "      <th>ONEOFF_PURCHASES</th>\n",
       "      <th>INSTALLMENTS_PURCHASES</th>\n",
       "      <th>CASH_ADVANCE</th>\n",
       "      <th>PURCHASES_FREQUENCY</th>\n",
       "      <th>ONEOFF_PURCHASES_FREQUENCY</th>\n",
       "      <th>PURCHASES_INSTALLMENTS_FREQUENCY</th>\n",
       "      <th>CASH_ADVANCE_FREQUENCY</th>\n",
       "      <th>CASH_ADVANCE_TRX</th>\n",
       "      <th>PURCHASES_TRX</th>\n",
       "      <th>CREDIT_LIMIT</th>\n",
       "      <th>PAYMENTS</th>\n",
       "      <th>MINIMUM_PAYMENTS</th>\n",
       "      <th>PRC_FULL_PAYMENT</th>\n",
       "      <th>TENURE</th>\n",
       "    </tr>\n",
       "  </thead>\n",
       "  <tbody>\n",
       "    <tr>\n",
       "      <th>0</th>\n",
       "      <td>-0.731989</td>\n",
       "      <td>-0.249434</td>\n",
       "      <td>-0.424900</td>\n",
       "      <td>-0.356934</td>\n",
       "      <td>-0.349079</td>\n",
       "      <td>-0.466786</td>\n",
       "      <td>-0.806490</td>\n",
       "      <td>-0.678661</td>\n",
       "      <td>-0.707313</td>\n",
       "      <td>-0.675349</td>\n",
       "      <td>-0.476070</td>\n",
       "      <td>-0.511333</td>\n",
       "      <td>-0.960380</td>\n",
       "      <td>-0.528979</td>\n",
       "      <td>-0.305482</td>\n",
       "      <td>-0.525551</td>\n",
       "      <td>0.36068</td>\n",
       "    </tr>\n",
       "    <tr>\n",
       "      <th>1</th>\n",
       "      <td>0.786961</td>\n",
       "      <td>0.134325</td>\n",
       "      <td>-0.469552</td>\n",
       "      <td>-0.356934</td>\n",
       "      <td>-0.454576</td>\n",
       "      <td>2.605605</td>\n",
       "      <td>-1.221758</td>\n",
       "      <td>-0.678661</td>\n",
       "      <td>-0.916995</td>\n",
       "      <td>0.573963</td>\n",
       "      <td>0.110074</td>\n",
       "      <td>-0.591796</td>\n",
       "      <td>0.688601</td>\n",
       "      <td>0.818642</td>\n",
       "      <td>0.087735</td>\n",
       "      <td>0.234227</td>\n",
       "      <td>0.36068</td>\n",
       "    </tr>\n",
       "    <tr>\n",
       "      <th>2</th>\n",
       "      <td>0.447135</td>\n",
       "      <td>0.518084</td>\n",
       "      <td>-0.107668</td>\n",
       "      <td>0.108889</td>\n",
       "      <td>-0.454576</td>\n",
       "      <td>-0.466786</td>\n",
       "      <td>1.269843</td>\n",
       "      <td>2.673451</td>\n",
       "      <td>-0.916995</td>\n",
       "      <td>-0.675349</td>\n",
       "      <td>-0.476070</td>\n",
       "      <td>-0.109020</td>\n",
       "      <td>0.826016</td>\n",
       "      <td>-0.383805</td>\n",
       "      <td>-0.099870</td>\n",
       "      <td>-0.525551</td>\n",
       "      <td>0.36068</td>\n",
       "    </tr>\n",
       "    <tr>\n",
       "      <th>3</th>\n",
       "      <td>0.049099</td>\n",
       "      <td>-1.016953</td>\n",
       "      <td>0.232058</td>\n",
       "      <td>0.546189</td>\n",
       "      <td>-0.454576</td>\n",
       "      <td>-0.368653</td>\n",
       "      <td>-1.014125</td>\n",
       "      <td>-0.399319</td>\n",
       "      <td>-0.916995</td>\n",
       "      <td>-0.258913</td>\n",
       "      <td>-0.329534</td>\n",
       "      <td>-0.551565</td>\n",
       "      <td>0.826016</td>\n",
       "      <td>-0.598688</td>\n",
       "      <td>NaN</td>\n",
       "      <td>-0.525551</td>\n",
       "      <td>0.36068</td>\n",
       "    </tr>\n",
       "    <tr>\n",
       "      <th>4</th>\n",
       "      <td>-0.358775</td>\n",
       "      <td>0.518084</td>\n",
       "      <td>-0.462063</td>\n",
       "      <td>-0.347294</td>\n",
       "      <td>-0.454576</td>\n",
       "      <td>-0.466786</td>\n",
       "      <td>-1.014125</td>\n",
       "      <td>-0.399319</td>\n",
       "      <td>-0.916995</td>\n",
       "      <td>-0.675349</td>\n",
       "      <td>-0.476070</td>\n",
       "      <td>-0.551565</td>\n",
       "      <td>-0.905414</td>\n",
       "      <td>-0.364368</td>\n",
       "      <td>-0.261102</td>\n",
       "      <td>-0.525551</td>\n",
       "      <td>0.36068</td>\n",
       "    </tr>\n",
       "  </tbody>\n",
       "</table>\n",
       "</div>"
      ],
      "text/plain": [
       "    BALANCE  BALANCE_FREQUENCY  PURCHASES  ONEOFF_PURCHASES  \\\n",
       "0 -0.731989          -0.249434  -0.424900         -0.356934   \n",
       "1  0.786961           0.134325  -0.469552         -0.356934   \n",
       "2  0.447135           0.518084  -0.107668          0.108889   \n",
       "3  0.049099          -1.016953   0.232058          0.546189   \n",
       "4 -0.358775           0.518084  -0.462063         -0.347294   \n",
       "\n",
       "   INSTALLMENTS_PURCHASES  CASH_ADVANCE  PURCHASES_FREQUENCY  \\\n",
       "0               -0.349079     -0.466786            -0.806490   \n",
       "1               -0.454576      2.605605            -1.221758   \n",
       "2               -0.454576     -0.466786             1.269843   \n",
       "3               -0.454576     -0.368653            -1.014125   \n",
       "4               -0.454576     -0.466786            -1.014125   \n",
       "\n",
       "   ONEOFF_PURCHASES_FREQUENCY  PURCHASES_INSTALLMENTS_FREQUENCY  \\\n",
       "0                   -0.678661                         -0.707313   \n",
       "1                   -0.678661                         -0.916995   \n",
       "2                    2.673451                         -0.916995   \n",
       "3                   -0.399319                         -0.916995   \n",
       "4                   -0.399319                         -0.916995   \n",
       "\n",
       "   CASH_ADVANCE_FREQUENCY  CASH_ADVANCE_TRX  PURCHASES_TRX  CREDIT_LIMIT  \\\n",
       "0               -0.675349         -0.476070      -0.511333     -0.960380   \n",
       "1                0.573963          0.110074      -0.591796      0.688601   \n",
       "2               -0.675349         -0.476070      -0.109020      0.826016   \n",
       "3               -0.258913         -0.329534      -0.551565      0.826016   \n",
       "4               -0.675349         -0.476070      -0.551565     -0.905414   \n",
       "\n",
       "   PAYMENTS  MINIMUM_PAYMENTS  PRC_FULL_PAYMENT   TENURE  \n",
       "0 -0.528979         -0.305482         -0.525551  0.36068  \n",
       "1  0.818642          0.087735          0.234227  0.36068  \n",
       "2 -0.383805         -0.099870         -0.525551  0.36068  \n",
       "3 -0.598688               NaN         -0.525551  0.36068  \n",
       "4 -0.364368         -0.261102         -0.525551  0.36068  "
      ]
     },
     "execution_count": 2,
     "metadata": {},
     "output_type": "execute_result"
    }
   ],
   "source": [
    "# Read the data\n",
    "data = pd.read_csv(\"./data.csv\")\n",
    "print (data.shape)\n",
    "data.head()"
   ]
  },
  {
   "cell_type": "code",
   "execution_count": 3,
   "metadata": {},
   "outputs": [
    {
     "name": "stdout",
     "output_type": "stream",
     "text": [
      "(5650, 17)\n"
     ]
    },
    {
     "data": {
      "text/html": [
       "<div>\n",
       "<style scoped>\n",
       "    .dataframe tbody tr th:only-of-type {\n",
       "        vertical-align: middle;\n",
       "    }\n",
       "\n",
       "    .dataframe tbody tr th {\n",
       "        vertical-align: top;\n",
       "    }\n",
       "\n",
       "    .dataframe thead th {\n",
       "        text-align: right;\n",
       "    }\n",
       "</style>\n",
       "<table border=\"1\" class=\"dataframe\">\n",
       "  <thead>\n",
       "    <tr style=\"text-align: right;\">\n",
       "      <th></th>\n",
       "      <th>BALANCE</th>\n",
       "      <th>BALANCE_FREQUENCY</th>\n",
       "      <th>PURCHASES</th>\n",
       "      <th>ONEOFF_PURCHASES</th>\n",
       "      <th>INSTALLMENTS_PURCHASES</th>\n",
       "      <th>CASH_ADVANCE</th>\n",
       "      <th>PURCHASES_FREQUENCY</th>\n",
       "      <th>ONEOFF_PURCHASES_FREQUENCY</th>\n",
       "      <th>PURCHASES_INSTALLMENTS_FREQUENCY</th>\n",
       "      <th>CASH_ADVANCE_FREQUENCY</th>\n",
       "      <th>CASH_ADVANCE_TRX</th>\n",
       "      <th>PURCHASES_TRX</th>\n",
       "      <th>CREDIT_LIMIT</th>\n",
       "      <th>PAYMENTS</th>\n",
       "      <th>MINIMUM_PAYMENTS</th>\n",
       "      <th>PRC_FULL_PAYMENT</th>\n",
       "      <th>TENURE</th>\n",
       "    </tr>\n",
       "  </thead>\n",
       "  <tbody>\n",
       "    <tr>\n",
       "      <th>0</th>\n",
       "      <td>-0.810966</td>\n",
       "      <td>-0.062275</td>\n",
       "      <td>-0.630625</td>\n",
       "      <td>-0.529667</td>\n",
       "      <td>-0.357800</td>\n",
       "      <td>-0.501317</td>\n",
       "      <td>-0.662280</td>\n",
       "      <td>-0.628865</td>\n",
       "      <td>-0.628196</td>\n",
       "      <td>-0.696110</td>\n",
       "      <td>-0.642010</td>\n",
       "      <td>-0.651988</td>\n",
       "      <td>-0.914847</td>\n",
       "      <td>-0.771036</td>\n",
       "      <td>-0.678082</td>\n",
       "      <td>-0.506436</td>\n",
       "      <td>0.394642</td>\n",
       "    </tr>\n",
       "    <tr>\n",
       "      <th>1</th>\n",
       "      <td>2.237798</td>\n",
       "      <td>0.276522</td>\n",
       "      <td>-0.817155</td>\n",
       "      <td>-0.529667</td>\n",
       "      <td>-0.718962</td>\n",
       "      <td>6.095218</td>\n",
       "      <td>-1.110580</td>\n",
       "      <td>-0.628865</td>\n",
       "      <td>-0.851814</td>\n",
       "      <td>1.305085</td>\n",
       "      <td>1.049459</td>\n",
       "      <td>-0.890827</td>\n",
       "      <td>1.495470</td>\n",
       "      <td>4.389703</td>\n",
       "      <td>2.056376</td>\n",
       "      <td>0.287007</td>\n",
       "      <td>0.394642</td>\n",
       "    </tr>\n",
       "    <tr>\n",
       "      <th>2</th>\n",
       "      <td>0.756797</td>\n",
       "      <td>-0.739870</td>\n",
       "      <td>2.113752</td>\n",
       "      <td>2.947338</td>\n",
       "      <td>-0.718962</td>\n",
       "      <td>-0.290623</td>\n",
       "      <td>-0.886431</td>\n",
       "      <td>-0.148039</td>\n",
       "      <td>-0.851814</td>\n",
       "      <td>-0.029048</td>\n",
       "      <td>-0.219142</td>\n",
       "      <td>-0.771407</td>\n",
       "      <td>1.696330</td>\n",
       "      <td>-1.037989</td>\n",
       "      <td>NaN</td>\n",
       "      <td>-0.506436</td>\n",
       "      <td>0.394642</td>\n",
       "    </tr>\n",
       "    <tr>\n",
       "      <th>3</th>\n",
       "      <td>-0.061869</td>\n",
       "      <td>0.615320</td>\n",
       "      <td>-0.785871</td>\n",
       "      <td>-0.492554</td>\n",
       "      <td>-0.718962</td>\n",
       "      <td>-0.501317</td>\n",
       "      <td>-0.886431</td>\n",
       "      <td>-0.148039</td>\n",
       "      <td>-0.851814</td>\n",
       "      <td>-0.696110</td>\n",
       "      <td>-0.642010</td>\n",
       "      <td>-0.771407</td>\n",
       "      <td>-0.834503</td>\n",
       "      <td>-0.140655</td>\n",
       "      <td>-0.369465</td>\n",
       "      <td>-0.506436</td>\n",
       "      <td>0.394642</td>\n",
       "    </tr>\n",
       "    <tr>\n",
       "      <th>4</th>\n",
       "      <td>0.908179</td>\n",
       "      <td>0.615320</td>\n",
       "      <td>0.035721</td>\n",
       "      <td>-0.529667</td>\n",
       "      <td>0.932390</td>\n",
       "      <td>-0.501317</td>\n",
       "      <td>1.579218</td>\n",
       "      <td>-0.628865</td>\n",
       "      <td>1.831615</td>\n",
       "      <td>-0.696110</td>\n",
       "      <td>-0.642010</td>\n",
       "      <td>0.542207</td>\n",
       "      <td>-0.392612</td>\n",
       "      <td>-0.139689</td>\n",
       "      <td>0.472546</td>\n",
       "      <td>-0.506436</td>\n",
       "      <td>0.394642</td>\n",
       "    </tr>\n",
       "  </tbody>\n",
       "</table>\n",
       "</div>"
      ],
      "text/plain": [
       "    BALANCE  BALANCE_FREQUENCY  PURCHASES  ONEOFF_PURCHASES  \\\n",
       "0 -0.810966          -0.062275  -0.630625         -0.529667   \n",
       "1  2.237798           0.276522  -0.817155         -0.529667   \n",
       "2  0.756797          -0.739870   2.113752          2.947338   \n",
       "3 -0.061869           0.615320  -0.785871         -0.492554   \n",
       "4  0.908179           0.615320   0.035721         -0.529667   \n",
       "\n",
       "   INSTALLMENTS_PURCHASES  CASH_ADVANCE  PURCHASES_FREQUENCY  \\\n",
       "0               -0.357800     -0.501317            -0.662280   \n",
       "1               -0.718962      6.095218            -1.110580   \n",
       "2               -0.718962     -0.290623            -0.886431   \n",
       "3               -0.718962     -0.501317            -0.886431   \n",
       "4                0.932390     -0.501317             1.579218   \n",
       "\n",
       "   ONEOFF_PURCHASES_FREQUENCY  PURCHASES_INSTALLMENTS_FREQUENCY  \\\n",
       "0                   -0.628865                         -0.628196   \n",
       "1                   -0.628865                         -0.851814   \n",
       "2                   -0.148039                         -0.851814   \n",
       "3                   -0.148039                         -0.851814   \n",
       "4                   -0.628865                          1.831615   \n",
       "\n",
       "   CASH_ADVANCE_FREQUENCY  CASH_ADVANCE_TRX  PURCHASES_TRX  CREDIT_LIMIT  \\\n",
       "0               -0.696110         -0.642010      -0.651988     -0.914847   \n",
       "1                1.305085          1.049459      -0.890827      1.495470   \n",
       "2               -0.029048         -0.219142      -0.771407      1.696330   \n",
       "3               -0.696110         -0.642010      -0.771407     -0.834503   \n",
       "4               -0.696110         -0.642010       0.542207     -0.392612   \n",
       "\n",
       "   PAYMENTS  MINIMUM_PAYMENTS  PRC_FULL_PAYMENT    TENURE  \n",
       "0 -0.771036         -0.678082         -0.506436  0.394642  \n",
       "1  4.389703          2.056376          0.287007  0.394642  \n",
       "2 -1.037989               NaN         -0.506436  0.394642  \n",
       "3 -0.140655         -0.369465         -0.506436  0.394642  \n",
       "4 -0.139689          0.472546         -0.506436  0.394642  "
      ]
     },
     "execution_count": 3,
     "metadata": {},
     "output_type": "execute_result"
    }
   ],
   "source": [
    "wo_data = pd.read_csv(\"./wo_data.csv\")\n",
    "print (wo_data.shape)\n",
    "wo_data.head()"
   ]
  },
  {
   "cell_type": "code",
   "execution_count": 4,
   "metadata": {},
   "outputs": [
    {
     "name": "stdout",
     "output_type": "stream",
     "text": [
      "1\n",
      "313\n",
      "['CREDIT_LIMIT', 'MINIMUM_PAYMENTS']\n"
     ]
    }
   ],
   "source": [
    "cols: list = []\n",
    "for col in data.columns:\n",
    "    if data[col].isnull().any():\n",
    "        print (data[col].isnull().sum())\n",
    "        cols.append(col)\n",
    "\n",
    "print (cols)"
   ]
  },
  {
   "cell_type": "code",
   "execution_count": 5,
   "metadata": {},
   "outputs": [
    {
     "name": "stdout",
     "output_type": "stream",
     "text": [
      "1\n",
      "267\n",
      "['CREDIT_LIMIT', 'MINIMUM_PAYMENTS']\n"
     ]
    }
   ],
   "source": [
    "wo_cols: list = []\n",
    "for col in wo_data.columns:\n",
    "    if wo_data[col].isnull().any():\n",
    "        print (wo_data[col].isnull().sum())\n",
    "        wo_cols.append(col)\n",
    "\n",
    "print (wo_cols)"
   ]
  },
  {
   "cell_type": "code",
   "execution_count": 6,
   "metadata": {},
   "outputs": [
    {
     "name": "stdout",
     "output_type": "stream",
     "text": [
      "8950\n",
      "5650\n"
     ]
    }
   ],
   "source": [
    "print (data.shape[0])\n",
    "print (wo_data.shape[0])"
   ]
  },
  {
   "cell_type": "markdown",
   "metadata": {},
   "source": [
    "The dataset has a few missing values and we can delete all of them"
   ]
  },
  {
   "cell_type": "code",
   "execution_count": 7,
   "metadata": {},
   "outputs": [
    {
     "name": "stdout",
     "output_type": "stream",
     "text": [
      "314\n"
     ]
    }
   ],
   "source": [
    "# Remove missing values\n",
    "rows: set = set()\n",
    "for col in cols:\n",
    "    for v in (list(data[data[col].isnull()].index)): rows.add(v)\n",
    "\n",
    "print (len(rows))"
   ]
  },
  {
   "cell_type": "code",
   "execution_count": 8,
   "metadata": {},
   "outputs": [
    {
     "name": "stdout",
     "output_type": "stream",
     "text": [
      "268\n"
     ]
    }
   ],
   "source": [
    "wo_rows: set = set()\n",
    "for col in wo_cols:\n",
    "    for v in (list(wo_data[wo_data[col].isnull()].index)): wo_rows.add(v)\n",
    "\n",
    "print (len(wo_rows))"
   ]
  },
  {
   "cell_type": "code",
   "execution_count": 9,
   "metadata": {},
   "outputs": [
    {
     "name": "stdout",
     "output_type": "stream",
     "text": [
      "(8636, 17)\n"
     ]
    }
   ],
   "source": [
    "data.drop(list(rows), axis = 0, inplace = True)\n",
    "print (data.shape)"
   ]
  },
  {
   "cell_type": "code",
   "execution_count": 10,
   "metadata": {},
   "outputs": [
    {
     "name": "stdout",
     "output_type": "stream",
     "text": [
      "(5382, 17)\n"
     ]
    }
   ],
   "source": [
    "wo_data.drop(list(wo_rows), axis = 0, inplace = True)\n",
    "print (wo_data.shape)"
   ]
  },
  {
   "cell_type": "code",
   "execution_count": 11,
   "metadata": {},
   "outputs": [],
   "source": [
    "# Save changes\n",
    "data.to_csv(\"data.csv\", index = False)\n",
    "wo_data.to_csv(\"wo_data.csv\", index = False)"
   ]
  }
 ],
 "metadata": {
  "kernelspec": {
   "display_name": "Python 3 (ipykernel)",
   "language": "python",
   "name": "python3"
  },
  "language_info": {
   "codemirror_mode": {
    "name": "ipython",
    "version": 3
   },
   "file_extension": ".py",
   "mimetype": "text/x-python",
   "name": "python",
   "nbconvert_exporter": "python",
   "pygments_lexer": "ipython3",
   "version": "3.10.6"
  }
 },
 "nbformat": 4,
 "nbformat_minor": 2
}
