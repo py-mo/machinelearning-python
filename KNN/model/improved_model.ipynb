{
 "cells": [
  {
   "cell_type": "markdown",
   "id": "84bf6349",
   "metadata": {},
   "source": [
    "## Import necessary libraries"
   ]
  },
  {
   "cell_type": "code",
   "execution_count": 1,
   "id": "6365e013",
   "metadata": {},
   "outputs": [],
   "source": [
    "import numpy as np\n",
    "import pandas as pd\n",
    "from sklearn.neighbors import KNeighborsClassifier\n",
    "from sklearn.preprocessing import LabelEncoder\n",
    "from sklearn.model_selection import train_test_split\n",
    "from sklearn.metrics import accuracy_score, f1_score, classification_report, jaccard_score"
   ]
  },
  {
   "cell_type": "code",
   "execution_count": 2,
   "id": "0026dbb7",
   "metadata": {},
   "outputs": [],
   "source": [
    "import warnings\n",
    "warnings.filterwarnings('ignore')"
   ]
  },
  {
   "cell_type": "code",
   "execution_count": 3,
   "id": "322eeee2",
   "metadata": {},
   "outputs": [],
   "source": [
    "def tr_te(df: pd.DataFrame, ts: float = 0.2, rs: int = 123, print_: bool = True):\n",
    "    xs = df.drop([\"income\"], axis=1)\n",
    "    ys = df[\"income\"]\n",
    "\n",
    "    xtr, xte, ytr, yte = train_test_split(xs, ys, test_size=ts, random_state=rs)\n",
    "    return xtr, xte, ytr, yte"
   ]
  },
  {
   "cell_type": "code",
   "execution_count": 4,
   "id": "8fde4571",
   "metadata": {},
   "outputs": [],
   "source": [
    "def filter_corr(df: pd.DataFrame, min_c: float):\n",
    "    corr_df = df.copy()\n",
    "    corr_list = df.corr()[\"income\"]\n",
    "    for col in df.columns:\n",
    "        if corr_list[col] <= min_c:\n",
    "            corr_df.drop([col], axis=1, inplace=True)\n",
    "    return corr_df"
   ]
  },
  {
   "cell_type": "code",
   "execution_count": 5,
   "id": "d6fe8b26",
   "metadata": {},
   "outputs": [],
   "source": [
    "def filter_class(data: pd.DataFrame) -> pd.DataFrame:\n",
    "    df = data.copy()\n",
    "    length: int = len(df)\n",
    "    this_col_vals: dict = dict()\n",
    "    this_col_uniques: list\n",
    "    for col in df.columns:\n",
    "        this_col_uniques = list(df[col].unique())\n",
    "        \n",
    "        for val in this_col_uniques:\n",
    "            if (df[df[col] == val][\"income\"].sum()) > \\\n",
    "               (len(df[df[col] == val]) / 2):\n",
    "                this_col_vals[val] = 1\n",
    "            else:\n",
    "                this_col_vals[val] = 0\n",
    "        \n",
    "        for i in range(length):\n",
    "            df[col][i] = this_col_vals.get(df[col][i], 0)\n",
    "            \n",
    "        this_col_vals = dict()\n",
    "    \n",
    "    return df"
   ]
  },
  {
   "cell_type": "code",
   "execution_count": 6,
   "id": "463346f7",
   "metadata": {},
   "outputs": [],
   "source": [
    "def evaluate(p: list, df: pd.DataFrame\n",
    "             , model: KNeighborsClassifier\n",
    "             , trte_func, print_res: bool = False):\n",
    "    xtrain, xtest, ytrain, ytest = trte_func(df)\n",
    "    model.fit(xtrain, ytrain)\n",
    "    y_pred = model.predict(xtest)\n",
    "    if print_res:\n",
    "        print(f\"{p}: {accuracy_score(ytest, y_pred):.2%}\")\n",
    "        print(f\"f1score: {f1_score(ytest, y_pred)}\")\n",
    "    return (accuracy_score(ytest, y_pred), f1_score(ytest, y_pred))"
   ]
  },
  {
   "cell_type": "code",
   "execution_count": 7,
   "id": "888002ff",
   "metadata": {},
   "outputs": [],
   "source": [
    "def train_evaluate(classified_df: pd.DataFrame, model: KNeighborsClassifier,\n",
    "                   min_corr: float, evaluate_func, filter_func,\n",
    "                   trte_func, ps: list, output: bool):\n",
    "    global data, data_, corr_list\n",
    "    for col in data_.columns:\n",
    "        if corr_list[col] < min_corr:\n",
    "            data_[col] = classified_df[col]\n",
    "    \n",
    "    return evaluate_func([ps, min_corr], filter_func(data_, min_corr),\n",
    "                  model, trte_func, output)"
   ]
  },
  {
   "cell_type": "markdown",
   "id": "b209b881",
   "metadata": {},
   "source": [
    "## Read Data"
   ]
  },
  {
   "cell_type": "code",
   "execution_count": 8,
   "id": "fc851518",
   "metadata": {},
   "outputs": [],
   "source": [
    "data = pd.read_csv(\"../adult.csv\")"
   ]
  },
  {
   "cell_type": "code",
   "execution_count": 9,
   "id": "f8ef74aa",
   "metadata": {},
   "outputs": [],
   "source": [
    "le = LabelEncoder()"
   ]
  },
  {
   "cell_type": "code",
   "execution_count": 10,
   "id": "289e0a2c",
   "metadata": {},
   "outputs": [],
   "source": [
    "for col in data.columns:\n",
    "    if data[col].dtype == \"object\":\n",
    "       data[col] = le.fit_transform(data[col].values)"
   ]
  },
  {
   "cell_type": "code",
   "execution_count": 11,
   "id": "3f7faad7",
   "metadata": {},
   "outputs": [],
   "source": [
    "length: int = len(data)\n",
    "\n",
    "this_col_vals: np.ndarray = np.zeros(length, dtype=np.uint8)\n",
    "for col in [\"workclass\", \"race\"]:\n",
    "    for i in range(length):\n",
    "        if data[col][i] == 4:\n",
    "            this_col_vals[i] = 0\n",
    "            continue\n",
    "        this_col_vals[i] = 1\n",
    "    this_col_vals: np.ndarray = np.zeros(length, dtype=np.uint8)\n",
    "    data[col] = this_col_vals"
   ]
  },
  {
   "cell_type": "code",
   "execution_count": 12,
   "id": "a140ae4f",
   "metadata": {},
   "outputs": [],
   "source": [
    "data_ = data.copy()\n",
    "corr_list = data.corr()[\"income\"]\n",
    "classified_data = filter_class(data)"
   ]
  },
  {
   "cell_type": "markdown",
   "id": "5f1b303c",
   "metadata": {},
   "source": [
    "## Train model and find the best model"
   ]
  },
  {
   "cell_type": "code",
   "execution_count": 13,
   "id": "aaaf4bfc",
   "metadata": {},
   "outputs": [],
   "source": [
    "max_acc: list = [0, []]\n",
    "max_f1: list = [0, []]\n",
    "max_acc_f1: list = [0, []]\n",
    "\n",
    "acc: float = 0.0\n",
    "f1: float = 0.0"
   ]
  },
  {
   "cell_type": "code",
   "execution_count": 14,
   "id": "99c204ee",
   "metadata": {},
   "outputs": [],
   "source": [
    "ss: list = []\n",
    "for n in range(3, 15):\n",
    "    for w in [\"uniform\", \"distance\"]:\n",
    "        for a in [\"auto\", \"brute\"]:\n",
    "            ss.append([n, w, a])"
   ]
  },
  {
   "cell_type": "code",
   "execution_count": 15,
   "id": "77f85e3b",
   "metadata": {},
   "outputs": [],
   "source": [
    "for ps in ss:\n",
    "    [n, w, a] = ps\n",
    "    for min_corr in [0, 0.1, 0.3]:\n",
    "        knn_model = KNeighborsClassifier(n_neighbors=n, weights=w,\n",
    "        algorithm=a, p=2, metric=\"minkowski\")\n",
    "        try:\n",
    "            acc, f1 = train_evaluate(classified_data, knn_model,\n",
    "                        min_corr, evaluate, filter_corr\n",
    "                        , tr_te, [n, w, a], False)\n",
    "            if acc > max_acc[0]:\n",
    "                max_acc[0] = acc\n",
    "                max_acc[1] = [n, w, a, min_corr]\n",
    "            if f1 > max_f1[0]:\n",
    "                max_f1[0] = f1\n",
    "                max_f1[1] = [n, w, a, min_corr]\n",
    "            if (acc + f1) > (max_acc_f1[0]):\n",
    "                max_acc_f1[0] = acc + f1\n",
    "                max_acc_f1[1] = [n, w, a, min_corr]\n",
    "        except:\n",
    "            continue"
   ]
  },
  {
   "cell_type": "code",
   "execution_count": 16,
   "id": "055c5fe8",
   "metadata": {},
   "outputs": [
    {
     "name": "stdout",
     "output_type": "stream",
     "text": [
      "[0.9135018937455216, [5, 'distance', 'brute', 0.1]]\n"
     ]
    }
   ],
   "source": [
    "print (max_acc)"
   ]
  },
  {
   "cell_type": "code",
   "execution_count": 17,
   "id": "6d3a6785",
   "metadata": {},
   "outputs": [
    {
     "name": "stdout",
     "output_type": "stream",
     "text": [
      "[0.8033472803347281, [13, 'distance', 'brute', 0]]\n"
     ]
    }
   ],
   "source": [
    "print (max_f1)"
   ]
  },
  {
   "cell_type": "code",
   "execution_count": 18,
   "id": "d0dba409",
   "metadata": {},
   "outputs": [
    {
     "name": "stdout",
     "output_type": "stream",
     "text": [
      "[1.7167468094574634, [13, 'distance', 'brute', 0]]\n"
     ]
    }
   ],
   "source": [
    "print (max_acc_f1)"
   ]
  },
  {
   "cell_type": "markdown",
   "id": "3e4edd3b",
   "metadata": {},
   "source": [
    "### Best model"
   ]
  },
  {
   "cell_type": "code",
   "execution_count": 19,
   "id": "0a2df011",
   "metadata": {},
   "outputs": [],
   "source": [
    "for col in data.columns:\n",
    "    if corr_list[col] < min_corr:\n",
    "        data[col] = classified_data[col]"
   ]
  },
  {
   "cell_type": "code",
   "execution_count": 20,
   "id": "89599d8f",
   "metadata": {},
   "outputs": [],
   "source": [
    "knn_model = KNeighborsClassifier(n_neighbors=13,\n",
    "            weights=\"distance\", algorithm=\"brute\")"
   ]
  },
  {
   "cell_type": "code",
   "execution_count": 21,
   "id": "29689a27",
   "metadata": {},
   "outputs": [],
   "source": [
    "x_train, x_test, y_train, y_test = tr_te(filter_corr(data_, 0.0))"
   ]
  },
  {
   "cell_type": "code",
   "execution_count": 22,
   "id": "5f5c8814",
   "metadata": {},
   "outputs": [
    {
     "data": {
      "text/html": [
       "<style>#sk-container-id-1 {color: black;background-color: white;}#sk-container-id-1 pre{padding: 0;}#sk-container-id-1 div.sk-toggleable {background-color: white;}#sk-container-id-1 label.sk-toggleable__label {cursor: pointer;display: block;width: 100%;margin-bottom: 0;padding: 0.3em;box-sizing: border-box;text-align: center;}#sk-container-id-1 label.sk-toggleable__label-arrow:before {content: \"▸\";float: left;margin-right: 0.25em;color: #696969;}#sk-container-id-1 label.sk-toggleable__label-arrow:hover:before {color: black;}#sk-container-id-1 div.sk-estimator:hover label.sk-toggleable__label-arrow:before {color: black;}#sk-container-id-1 div.sk-toggleable__content {max-height: 0;max-width: 0;overflow: hidden;text-align: left;background-color: #f0f8ff;}#sk-container-id-1 div.sk-toggleable__content pre {margin: 0.2em;color: black;border-radius: 0.25em;background-color: #f0f8ff;}#sk-container-id-1 input.sk-toggleable__control:checked~div.sk-toggleable__content {max-height: 200px;max-width: 100%;overflow: auto;}#sk-container-id-1 input.sk-toggleable__control:checked~label.sk-toggleable__label-arrow:before {content: \"▾\";}#sk-container-id-1 div.sk-estimator input.sk-toggleable__control:checked~label.sk-toggleable__label {background-color: #d4ebff;}#sk-container-id-1 div.sk-label input.sk-toggleable__control:checked~label.sk-toggleable__label {background-color: #d4ebff;}#sk-container-id-1 input.sk-hidden--visually {border: 0;clip: rect(1px 1px 1px 1px);clip: rect(1px, 1px, 1px, 1px);height: 1px;margin: -1px;overflow: hidden;padding: 0;position: absolute;width: 1px;}#sk-container-id-1 div.sk-estimator {font-family: monospace;background-color: #f0f8ff;border: 1px dotted black;border-radius: 0.25em;box-sizing: border-box;margin-bottom: 0.5em;}#sk-container-id-1 div.sk-estimator:hover {background-color: #d4ebff;}#sk-container-id-1 div.sk-parallel-item::after {content: \"\";width: 100%;border-bottom: 1px solid gray;flex-grow: 1;}#sk-container-id-1 div.sk-label:hover label.sk-toggleable__label {background-color: #d4ebff;}#sk-container-id-1 div.sk-serial::before {content: \"\";position: absolute;border-left: 1px solid gray;box-sizing: border-box;top: 0;bottom: 0;left: 50%;z-index: 0;}#sk-container-id-1 div.sk-serial {display: flex;flex-direction: column;align-items: center;background-color: white;padding-right: 0.2em;padding-left: 0.2em;position: relative;}#sk-container-id-1 div.sk-item {position: relative;z-index: 1;}#sk-container-id-1 div.sk-parallel {display: flex;align-items: stretch;justify-content: center;background-color: white;position: relative;}#sk-container-id-1 div.sk-item::before, #sk-container-id-1 div.sk-parallel-item::before {content: \"\";position: absolute;border-left: 1px solid gray;box-sizing: border-box;top: 0;bottom: 0;left: 50%;z-index: -1;}#sk-container-id-1 div.sk-parallel-item {display: flex;flex-direction: column;z-index: 1;position: relative;background-color: white;}#sk-container-id-1 div.sk-parallel-item:first-child::after {align-self: flex-end;width: 50%;}#sk-container-id-1 div.sk-parallel-item:last-child::after {align-self: flex-start;width: 50%;}#sk-container-id-1 div.sk-parallel-item:only-child::after {width: 0;}#sk-container-id-1 div.sk-dashed-wrapped {border: 1px dashed gray;margin: 0 0.4em 0.5em 0.4em;box-sizing: border-box;padding-bottom: 0.4em;background-color: white;}#sk-container-id-1 div.sk-label label {font-family: monospace;font-weight: bold;display: inline-block;line-height: 1.2em;}#sk-container-id-1 div.sk-label-container {text-align: center;}#sk-container-id-1 div.sk-container {/* jupyter's `normalize.less` sets `[hidden] { display: none; }` but bootstrap.min.css set `[hidden] { display: none !important; }` so we also need the `!important` here to be able to override the default hidden behavior on the sphinx rendered scikit-learn.org. See: https://github.com/scikit-learn/scikit-learn/issues/21755 */display: inline-block !important;position: relative;}#sk-container-id-1 div.sk-text-repr-fallback {display: none;}</style><div id=\"sk-container-id-1\" class=\"sk-top-container\"><div class=\"sk-text-repr-fallback\"><pre>KNeighborsClassifier(algorithm=&#x27;brute&#x27;, n_neighbors=13, weights=&#x27;distance&#x27;)</pre><b>In a Jupyter environment, please rerun this cell to show the HTML representation or trust the notebook. <br />On GitHub, the HTML representation is unable to render, please try loading this page with nbviewer.org.</b></div><div class=\"sk-container\" hidden><div class=\"sk-item\"><div class=\"sk-estimator sk-toggleable\"><input class=\"sk-toggleable__control sk-hidden--visually\" id=\"sk-estimator-id-1\" type=\"checkbox\" checked><label for=\"sk-estimator-id-1\" class=\"sk-toggleable__label sk-toggleable__label-arrow\">KNeighborsClassifier</label><div class=\"sk-toggleable__content\"><pre>KNeighborsClassifier(algorithm=&#x27;brute&#x27;, n_neighbors=13, weights=&#x27;distance&#x27;)</pre></div></div></div></div></div>"
      ],
      "text/plain": [
       "KNeighborsClassifier(algorithm='brute', n_neighbors=13, weights='distance')"
      ]
     },
     "execution_count": 22,
     "metadata": {},
     "output_type": "execute_result"
    }
   ],
   "source": [
    "knn_model.fit(x_train, y_train)"
   ]
  },
  {
   "cell_type": "code",
   "execution_count": 23,
   "id": "98f0a2bc",
   "metadata": {},
   "outputs": [],
   "source": [
    "y_pred = knn_model.predict(x_test)"
   ]
  },
  {
   "cell_type": "code",
   "execution_count": 24,
   "id": "9ef23278",
   "metadata": {},
   "outputs": [
    {
     "name": "stdout",
     "output_type": "stream",
     "text": [
      "Accuracy Score: 0.9133995291227351\n",
      "F1 Score: 0.8033472803347281\n",
      "Jaccard Score: 0.6713286713286714\n"
     ]
    }
   ],
   "source": [
    "print (f\"Accuracy Score: {accuracy_score(y_test, y_pred)}\")\n",
    "print (f\"F1 Score: {f1_score(y_test, y_pred)}\")\n",
    "print (f\"Jaccard Score: {jaccard_score(y_test, y_pred)}\")"
   ]
  },
  {
   "cell_type": "code",
   "execution_count": 25,
   "id": "5564df29",
   "metadata": {},
   "outputs": [
    {
     "name": "stdout",
     "output_type": "stream",
     "text": [
      "              precision    recall  f1-score   support\n",
      "\n",
      "           0       0.97      0.92      0.94      7819\n",
      "           1       0.73      0.89      0.80      1950\n",
      "\n",
      "    accuracy                           0.91      9769\n",
      "   macro avg       0.85      0.90      0.87      9769\n",
      "weighted avg       0.92      0.91      0.92      9769\n",
      "\n"
     ]
    }
   ],
   "source": [
    "print (classification_report(y_pred, y_test))"
   ]
  }
 ],
 "metadata": {
  "kernelspec": {
   "display_name": "Python 3 (ipykernel)",
   "language": "python",
   "name": "python3"
  },
  "language_info": {
   "codemirror_mode": {
    "name": "ipython",
    "version": 3
   },
   "file_extension": ".py",
   "mimetype": "text/x-python",
   "name": "python",
   "nbconvert_exporter": "python",
   "pygments_lexer": "ipython3",
   "version": "3.10.6"
  }
 },
 "nbformat": 4,
 "nbformat_minor": 5
}
